{
  "nbformat": 4,
  "nbformat_minor": 0,
  "metadata": {
    "colab": {
      "provenance": [],
      "authorship_tag": "ABX9TyNnFolJpd/RQCF2mq8rwp+K",
      "include_colab_link": true
    },
    "kernelspec": {
      "name": "python3",
      "display_name": "Python 3"
    },
    "language_info": {
      "name": "python"
    }
  },
  "cells": [
    {
      "cell_type": "markdown",
      "metadata": {
        "id": "view-in-github",
        "colab_type": "text"
      },
      "source": [
        "<a href=\"https://colab.research.google.com/github/sonasejidli/DATA-EXPLORATION-WITH-PYTHON/blob/main/DATA_EXPLORATION_WITH_PYTHON.ipynb\" target=\"_parent\"><img src=\"https://colab.research.google.com/assets/colab-badge.svg\" alt=\"Open In Colab\"/></a>"
      ]
    },
    {
      "cell_type": "code",
      "execution_count": null,
      "metadata": {
        "id": "v3jtfxcHgp5_"
      },
      "outputs": [],
      "source": [
        "import pandas as pd\n",
        "import matplotlib.pyplot as plt\n",
        "import seaborn as sns\n",
        "import numpy as np\n",
        "from scipy.stats import norm\n",
        "from sklearn.preprocessing import StandardScaler\n",
        "from scipy import stats\n",
        "import warnings\n",
        "warnings.filterwarnings('ignore')\n",
        "%matplotlib inline"
      ]
    },
    {
      "cell_type": "code",
      "source": [
        "df_train = pd.read_csv('../input/train.csv')"
      ],
      "metadata": {
        "id": "nWDrZTXsg-Ac"
      },
      "execution_count": null,
      "outputs": []
    },
    {
      "cell_type": "code",
      "source": [
        "df_train.columns"
      ],
      "metadata": {
        "id": "mcjK_Q-VhBpM"
      },
      "execution_count": null,
      "outputs": []
    },
    {
      "cell_type": "code",
      "source": [
        "df_train['SalePrice'].describe()"
      ],
      "metadata": {
        "id": "2XDmGuaQhE2T"
      },
      "execution_count": null,
      "outputs": []
    },
    {
      "cell_type": "code",
      "source": [
        "#histogram\n",
        "sns.distplot(df_train['SalePrice']);"
      ],
      "metadata": {
        "id": "btDYF-X3hHek"
      },
      "execution_count": null,
      "outputs": []
    },
    {
      "cell_type": "code",
      "source": [
        "print('Skewness %f' % df_train['SalePrice'].skew())\n",
        "print('Kurtosis: %f' % df_train['SalePrice'].kurt())"
      ],
      "metadata": {
        "id": "fOf3Vq82hKR6"
      },
      "execution_count": null,
      "outputs": []
    },
    {
      "cell_type": "markdown",
      "source": [
        "# 'SalePrice' Relationship with numerical variables"
      ],
      "metadata": {
        "id": "ry-VX7piheY6"
      }
    },
    {
      "cell_type": "code",
      "source": [
        "var = 'GrLivArea'\n",
        "data = pd.concat([df_train['SalePrice'], df_train[var]], axis=1)\n",
        "data.plot.scatter(x=var, y='SalePrice', ylim=(0,800000));"
      ],
      "metadata": {
        "id": "GdLEF6g1hwb8"
      },
      "execution_count": null,
      "outputs": []
    },
    {
      "cell_type": "code",
      "source": [
        "var = 'TotalBsmtSF'\n",
        "data = pd.concat([df_train['SalePrice'], df_train[var]], axis=1)\n",
        "data.plot.scatter(x=var, y='SalePrice', ylim=(0.800000));"
      ],
      "metadata": {
        "id": "U5fhci9Eh3nz"
      },
      "execution_count": null,
      "outputs": []
    },
    {
      "cell_type": "markdown",
      "source": [
        "## ***Relationship with categorical features***"
      ],
      "metadata": {
        "id": "PvR9S9rEh-_K"
      }
    },
    {
      "cell_type": "code",
      "source": [
        "var = 'OverallQual'\n",
        "data = pd.concat([df_train['SalePrice'], df_train[var]],axis=1)\n",
        "f, ax = plt.subplots(figsize=(8,6))\n",
        "fig = sns.boxplot(x=var, y='SalePrice', data=data)\n",
        "fig.axis(ymin=0, ymax=800000);"
      ],
      "metadata": {
        "id": "O6SqXNrRiFdr"
      },
      "execution_count": null,
      "outputs": []
    },
    {
      "cell_type": "code",
      "source": [
        "var = 'YearBuilt'\n",
        "data =  pd.concat([df_train['SalePrice'], df_train[var]],axis=1)\n",
        "f, ax = plt.subplots(figsize=(16,8))\n",
        "fig = sns.boxplot(x=var, y='SalePrice',data=data)\n",
        "fig.axis(ymin=0,ymax=800000);\n",
        "plt.xticks(rotation=90);"
      ],
      "metadata": {
        "id": "DJUJWVlviIKr"
      },
      "execution_count": null,
      "outputs": []
    },
    {
      "cell_type": "markdown",
      "source": [
        "## *Correlation matrix (heatmap style)*"
      ],
      "metadata": {
        "id": "_lefb3rCiVYb"
      }
    },
    {
      "cell_type": "code",
      "source": [
        "corrmat = df_train.corr()\n",
        "f, ax = plt.subplots(figsize=(12,9))\n",
        "sns.heatmap(corrmat, vmax=.8, square=True);"
      ],
      "metadata": {
        "id": "L3VelKU7iZQD"
      },
      "execution_count": null,
      "outputs": []
    },
    {
      "cell_type": "markdown",
      "source": [
        "# 'SalePrice' correlation matrix (zoomed heatmap style)"
      ],
      "metadata": {
        "id": "D9TnfB5Eiiei"
      }
    },
    {
      "cell_type": "code",
      "source": [
        "k = 10 #number of variable for heatmap\n",
        "cols = corrmat.nlargest(k, 'SalePrice')['SalePrice'].index\n",
        "cm = np.corrcoef(df_train[cols].values.T)\n",
        "sns.set(font_scale=1.25)\n",
        "hm = sns.heatmap(cm, cbar=True, annot=True, square=True,fmt='.2f', annot_kws={'size': 10}, yticklabels=cols.values, xticklabels=cols.values)\n",
        "plt.show()"
      ],
      "metadata": {
        "id": "QtSl_n3xikyE"
      },
      "execution_count": null,
      "outputs": []
    },
    {
      "cell_type": "markdown",
      "source": [
        "## **'SalePrice' and correlated variables**"
      ],
      "metadata": {
        "id": "6ooO0d4piuge"
      }
    },
    {
      "cell_type": "code",
      "source": [
        "sns.set()\n",
        "cols = ['SalePrice', 'OverallQual', 'GrLivArea','GarageCars','TotalBsmtSF', 'FullBath', 'YearBuilt' ]\n",
        "sns.pairplot(df_train[cols], size = 2.5)\n",
        "plt.show();"
      ],
      "metadata": {
        "id": "Dno_lLWUi2UL"
      },
      "execution_count": null,
      "outputs": []
    },
    {
      "cell_type": "markdown",
      "source": [
        "# Missing data"
      ],
      "metadata": {
        "id": "47pYF7JLi9DO"
      }
    },
    {
      "cell_type": "code",
      "source": [
        "total = df_train.isnull().sum().sort_values(ascending=False)\n",
        "percent = (df_train.isnull().sum()/df_train.isnull().count()).sort_values(ascending=False)\n",
        "missing_data = pd.concat([total,percent], axis=1, keys=['Total','Percent'])\n",
        "missing_data.head(20)"
      ],
      "metadata": {
        "id": "NSd-ZCSTjA7U"
      },
      "execution_count": null,
      "outputs": []
    },
    {
      "cell_type": "code",
      "source": [
        "columns_to_drop = missing_data[missing_data['Total'] > 1].index  #\n",
        "df_train = df_train.drop(columns=columns_to_drop)\n",
        "\n",
        "\n",
        "df_train = df_train.dropna(subset=['Electrical'])\n",
        "\n",
        "\n",
        "print(df_train.isnull().sum().max())"
      ],
      "metadata": {
        "id": "8p2AWzNejD1K"
      },
      "execution_count": null,
      "outputs": []
    },
    {
      "cell_type": "code",
      "source": [
        "saleprice_scaled = StandardScaler().fit_transform(df_train['SalePrice'][:,np.newaxis]);\n",
        "low_range = saleprice_scaled[saleprice_scaled[:,0].argsort()][:10]\n",
        "high_range= saleprice_scaled[saleprice_scaled[:,0].argsort()][-10:]\n",
        "print('outer range (low) of the distribution:')\n",
        "print(low_range)\n",
        "print('\\nouter range (high) of the distribution:')\n",
        "print(high_range)\n"
      ],
      "metadata": {
        "id": "s0cnZhf8jGvE"
      },
      "execution_count": null,
      "outputs": []
    },
    {
      "cell_type": "markdown",
      "source": [
        "# Bivariate analysis"
      ],
      "metadata": {
        "id": "1hMSoPHwjOIM"
      }
    },
    {
      "cell_type": "code",
      "source": [
        "var = 'GrLivArea'\n",
        "data = pd.concat([df_train['SalePrice'],df_train[var]], axis=1)\n",
        "data.plot.scatter(x=var, y='SalePrice', ylim=(0,800000));"
      ],
      "metadata": {
        "id": "8JE5rjjEjZqk"
      },
      "execution_count": null,
      "outputs": []
    },
    {
      "cell_type": "code",
      "source": [
        "#deleting points\n",
        "df_train.sort_values(by = 'GrLivArea', ascending = False) [:2]\n",
        "df_train = df_train.drop(df_train[df_train['Id'] == 1299].index)\n",
        "df_train = df_train.drop(df_train[df_train['Id'] == 524].index)"
      ],
      "metadata": {
        "id": "jSSdqmlDjb06"
      },
      "execution_count": null,
      "outputs": []
    },
    {
      "cell_type": "code",
      "source": [
        "#bivariate analysis saleprice/grlivarea\n",
        "var = 'TotalBsmtSF'\n",
        "data = pd.concat([df_train['SalePrice'], df_train[var]], axis=1)\n",
        "data.plot.scatter(x=var, y='SalePrice', ylim=(0,800000));"
      ],
      "metadata": {
        "id": "GJ2UQaxHjeWT"
      },
      "execution_count": null,
      "outputs": []
    },
    {
      "cell_type": "markdown",
      "source": [
        "# *In the search for normality*"
      ],
      "metadata": {
        "id": "dMuJMSdejs6b"
      }
    },
    {
      "cell_type": "code",
      "source": [
        "#histogram and normal probability plot\n",
        "sns.distplot(df_train['SalePrice'], fit=norm);\n",
        "fig = plt.figure()\n",
        "res = stats.probplot(df_train['SalePrice'],plot=plt)"
      ],
      "metadata": {
        "id": "o5hf1u7NjwRL"
      },
      "execution_count": null,
      "outputs": []
    },
    {
      "cell_type": "code",
      "source": [
        "df_train['SalePrice'] = np.log(df_train['SalePrice'])"
      ],
      "metadata": {
        "id": "eX58swiFj19r"
      },
      "execution_count": null,
      "outputs": []
    },
    {
      "cell_type": "code",
      "source": [
        "#transformed histogram and normal probability plot\n",
        "sns.distplot(df_train['SalePrice'], fit=norm);\n",
        "fig = plt.figure()\n",
        "res = stats.probplot(df_train['SalePrice'], plot=plt)"
      ],
      "metadata": {
        "id": "39KsFC4Hj2wj"
      },
      "execution_count": null,
      "outputs": []
    },
    {
      "cell_type": "code",
      "source": [
        "#histogram and normal probability plot\n",
        "sns.distplot(df_train['GrLivArea'], fit=norm);\n",
        "fig = plt.figure()\n",
        "res = stats.probplot(df_train['GrLivArea'], plot=plt)"
      ],
      "metadata": {
        "id": "6pi0rLtTj5Wr"
      },
      "execution_count": null,
      "outputs": []
    },
    {
      "cell_type": "code",
      "source": [
        "#data transformation\n",
        "df_train['GrLivArea'] = np.log(df_train['GrLivArea'])"
      ],
      "metadata": {
        "id": "tWhTZ2vxj8Bz"
      },
      "execution_count": null,
      "outputs": []
    },
    {
      "cell_type": "code",
      "source": [
        "#data transformation\n",
        "df_train['GrLivArea'] = np.log(df_train['GrLivArea'])"
      ],
      "metadata": {
        "id": "EaJWV7zSj-lL"
      },
      "execution_count": null,
      "outputs": []
    },
    {
      "cell_type": "code",
      "source": [
        "#histogram and normal probability plot\n",
        "sns.distplot(df_train['TotalBsmtSF'], fit=norm);\n",
        "fig = plt.figure()\n",
        "res = stats.probplot(df_train['TotalBsmtSF'], plot=plt)"
      ],
      "metadata": {
        "id": "QlGYWQZ8ktuS"
      },
      "execution_count": null,
      "outputs": []
    },
    {
      "cell_type": "code",
      "source": [
        "#create column for new variable (one is enough because it's a binary categorical feature)\n",
        "#if area>0 it gets 1, for area==0 it gets 0\n",
        "df_train['HasBsmt'] = pd.Series(len(df_train['TotalBsmtSF']), index=df_train.index)\n",
        "df_train['HasBsmt'] = 0\n",
        "df_train.loc[df_train['TotalBsmtSF']>0,'HasBsmt'] = 1"
      ],
      "metadata": {
        "id": "wrqRWGYrkvyT"
      },
      "execution_count": null,
      "outputs": []
    },
    {
      "cell_type": "code",
      "source": [
        "#transform data\n",
        "df_train.loc[df_train['HasBsmt']==1,'TotalBsmtSF'] = np.log(df_train['TotalBsmtSF'])"
      ],
      "metadata": {
        "id": "_P9mtrzUk7wj"
      },
      "execution_count": null,
      "outputs": []
    },
    {
      "cell_type": "code",
      "source": [
        "#transform data\n",
        "df_train.loc[df_train['HasBsmt']==1, 'TotalBsmtSF'] = np.log(df_train['TotalBsmtSF'])"
      ],
      "metadata": {
        "id": "5y7bevPpk8m7"
      },
      "execution_count": null,
      "outputs": []
    },
    {
      "cell_type": "code",
      "source": [
        "print(df_train['TotalBsmtSF'].isnull().sum())"
      ],
      "metadata": {
        "id": "kCvW5_HDlxXL"
      },
      "execution_count": null,
      "outputs": []
    },
    {
      "cell_type": "code",
      "source": [
        "#scatter plot\n",
        "plt.scatter(df_train['GrLivArea'], df_train['SalePrice']);"
      ],
      "metadata": {
        "id": "XX1IdVskk_es"
      },
      "execution_count": null,
      "outputs": []
    },
    {
      "cell_type": "markdown",
      "source": [
        "# dummy variables"
      ],
      "metadata": {
        "id": "U5C7xN32l56v"
      }
    },
    {
      "cell_type": "code",
      "source": [
        "#convert categorical variable into dummy\n",
        "df_train = pd.get_dummies(df_train)"
      ],
      "metadata": {
        "id": "9N-u08PPl5hc"
      },
      "execution_count": null,
      "outputs": []
    }
  ]
}